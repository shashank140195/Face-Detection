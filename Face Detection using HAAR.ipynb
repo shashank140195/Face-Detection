{
 "cells": [
  {
   "cell_type": "code",
   "execution_count": 2,
   "metadata": {},
   "outputs": [],
   "source": [
    "# Eyes nose and face detection using HAAR CASCADES"
   ]
  },
  {
   "cell_type": "code",
   "execution_count": 2,
   "metadata": {},
   "outputs": [],
   "source": [
    "import numpy as np\n",
    "import cv2\n",
    " \n",
    "face_classifier  = cv2.CascadeClassifier('/Users/deepshikhagupta/Downloads/Python-PRactice/haarcascade_frontalface_default.xml')\n",
    "eye_classifier   = cv2.CascadeClassifier('/Users/deepshikhagupta/Downloads/Python-PRactice/frontalEyes35x16.xml')\n",
    "nose_classifier  = cv2.CascadeClassifier('/Users/deepshikhagupta/Downloads/Python-PRactice/haarcascades_haarcascade_mcs_nose.xml')\n",
    "\n",
    "vc = cv2.VideoCapture(0)\n",
    "\n",
    "while True:\n",
    "    rval, img = vc.read()\n",
    "    img_gray = cv2.cvtColor(img, cv2.COLOR_BGR2GRAY)\n",
    "    faces = face_classifier.detectMultiScale(img_gray,1.03,4)\n",
    "    \n",
    "    for(x,y,w,h) in faces:\n",
    "        cv2.rectangle(img,(x,y),(x+w,y+h),(255,0,0),2)\n",
    "        roi_gray = img_gray[y:y+h, x:x+w]\n",
    "        roi_color = img[y:y+h, x:x+w]\n",
    "        eyes = eye_classifier.detectMultiScale(roi_gray)\n",
    "        nose = nose_classifier.detectMultiScale(roi_gray)\n",
    "        \n",
    "        for (ex,ey,ew,eh) in eyes:\n",
    "            cv2.rectangle(roi_color,(ex,ey),(ex+ew,ey+eh),(255,255,0),2)\n",
    "            break;\n",
    "        for (nx,ny,nw,nh) in nose:\n",
    "            cv2.rectangle(roi_color,(nx,ny),(nx+nw,ny+nh),(255,255,255),2)\n",
    "            break;\n",
    "            \n",
    "        \n",
    "    cv2.imshow(\"preview\", img)\n",
    "    key = cv2.waitKey(20)\n",
    "    if key == 27:\n",
    "        break;\n",
    "vc.release()        \n",
    "cv2.destroyWindow(\"preview\")"
   ]
  },
  {
   "cell_type": "code",
   "execution_count": null,
   "metadata": {},
   "outputs": [],
   "source": []
  }
 ],
 "metadata": {
  "kernelspec": {
   "display_name": "Python 3",
   "language": "python",
   "name": "python3"
  },
  "language_info": {
   "codemirror_mode": {
    "name": "ipython",
    "version": 3
   },
   "file_extension": ".py",
   "mimetype": "text/x-python",
   "name": "python",
   "nbconvert_exporter": "python",
   "pygments_lexer": "ipython3",
   "version": "3.8.5"
  }
 },
 "nbformat": 4,
 "nbformat_minor": 4
}
